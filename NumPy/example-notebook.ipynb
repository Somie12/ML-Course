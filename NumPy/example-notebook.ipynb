{
 "cells": [
  {
   "cell_type": "code",
   "execution_count": 5,
   "id": "3a6af2c6-941d-40b2-bd44-ec92f6a763a8",
   "metadata": {},
   "outputs": [
    {
     "name": "stdout",
     "output_type": "stream",
     "text": [
      "Hello World! I'm learning jupyter notebook!\n"
     ]
    }
   ],
   "source": [
    "print(\"Hello World! I'm learning jupyter notebook!\")"
   ]
  },
  {
   "cell_type": "markdown",
   "id": "e2e7a1f5-e517-4428-b636-db2f60e7e07e",
   "metadata": {},
   "source": [
    "Heart Disease Project"
   ]
  },
  {
   "cell_type": "code",
   "execution_count": 6,
   "id": "c5f2ad77-9e74-4749-9db9-98f70e91ee39",
   "metadata": {},
   "outputs": [],
   "source": [
    "import pandas as pd"
   ]
  },
  {
   "cell_type": "code",
   "execution_count": null,
   "id": "c108df69-a312-4cd5-98c4-3830a8d97b37",
   "metadata": {},
   "outputs": [],
   "source": []
  }
 ],
 "metadata": {
  "kernelspec": {
   "display_name": "Python 3 (ipykernel)",
   "language": "python",
   "name": "python3"
  },
  "language_info": {
   "codemirror_mode": {
    "name": "ipython",
    "version": 3
   },
   "file_extension": ".py",
   "mimetype": "text/x-python",
   "name": "python",
   "nbconvert_exporter": "python",
   "pygments_lexer": "ipython3",
   "version": "3.12.4"
  }
 },
 "nbformat": 4,
 "nbformat_minor": 5
}
